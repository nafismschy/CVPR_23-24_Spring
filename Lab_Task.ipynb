{
  "nbformat": 4,
  "nbformat_minor": 0,
  "metadata": {
    "colab": {
      "provenance": []
    },
    "kernelspec": {
      "name": "python3",
      "display_name": "Python 3"
    },
    "language_info": {
      "name": "python"
    }
  },
  "cells": [
    {
      "cell_type": "code",
      "execution_count": 1,
      "metadata": {
        "colab": {
          "base_uri": "https://localhost:8080/"
        },
        "id": "aQNlnw6qoB4S",
        "outputId": "4fcf47c9-0e4e-4f20-dfc8-da2f1711259f"
      },
      "outputs": [
        {
          "output_type": "stream",
          "name": "stdout",
          "text": [
            "Original list: [1, 2, 3, 4, 5, 6, 7, 8, 9, 10]\n",
            "List of squares: [1, 4, 9, 16, 25, 36, 49, 64, 81, 100]\n",
            "Sum of squares: 385\n"
          ]
        }
      ],
      "source": [
        "#List Operations\n",
        "numbers = list(range(1, 11))\n",
        "\n",
        "\n",
        "squares = [num ** 2 for num in numbers]\n",
        "\n",
        "\n",
        "sum_of_squares = sum(squares)\n",
        "\n",
        "\n",
        "print(\"Original list:\", numbers)\n",
        "print(\"List of squares:\", squares)\n",
        "print(\"Sum of squares:\", sum_of_squares)\n"
      ]
    },
    {
      "cell_type": "code",
      "source": [
        "#Tuple Operations\n",
        "\n",
        "even_numbers = (2, 4, 6, 8, 10)\n",
        "\n",
        "\n",
        "product_of_even_numbers = 1\n",
        "for num in even_numbers:\n",
        "    product_of_even_numbers *= num\n",
        "\n",
        "\n",
        "print(\"Tuple of even numbers:\", even_numbers)\n",
        "print(\"Product of even numbers:\", product_of_even_numbers)\n"
      ],
      "metadata": {
        "colab": {
          "base_uri": "https://localhost:8080/"
        },
        "id": "h2evGkDdqHxJ",
        "outputId": "098b9f4d-78d0-4551-8fff-4e0291ac6d8f"
      },
      "execution_count": 3,
      "outputs": [
        {
          "output_type": "stream",
          "name": "stdout",
          "text": [
            "Tuple of even numbers: (2, 4, 6, 8, 10)\n",
            "Product of even numbers: 3840\n"
          ]
        }
      ]
    },
    {
      "cell_type": "code",
      "source": [
        "#Set Operations\n",
        "\n",
        "set1 = {1, 3, 5, 7, 9}\n",
        "set2 = {1, 3, 5, 7}\n",
        "\n",
        "\n",
        "union_result = set1.union(set2)\n",
        "print(\"Union of the two sets:\", union_result)\n",
        "\n",
        "\n",
        "intersection_result = set1.intersection(set2)\n",
        "print(\"Intersection of the two sets:\", intersection_result)\n"
      ],
      "metadata": {
        "colab": {
          "base_uri": "https://localhost:8080/"
        },
        "id": "Q4Xb90fHq3_E",
        "outputId": "8e0299b2-862e-40ba-962b-1596723d6809"
      },
      "execution_count": 4,
      "outputs": [
        {
          "output_type": "stream",
          "name": "stdout",
          "text": [
            "Union of the two sets: {1, 3, 5, 7, 9}\n",
            "Intersection of the two sets: {1, 3, 5, 7}\n"
          ]
        }
      ]
    },
    {
      "cell_type": "code",
      "source": [
        "#Dictionary Operations\n",
        "\n",
        "alphabet_dict = {'a': ord('a'), 'b': ord('b'), 'c': ord('c'), 'd': ord('d'), 'e': ord('e')}\n",
        "\n",
        "\n",
        "print(\"Dictionary with lowercase alphabets and their ASCII values:\")\n",
        "print(alphabet_dict)\n"
      ],
      "metadata": {
        "colab": {
          "base_uri": "https://localhost:8080/"
        },
        "id": "iuOFkjhkrrma",
        "outputId": "fe6957e1-d137-4656-b9e6-22e0f637e18f"
      },
      "execution_count": 6,
      "outputs": [
        {
          "output_type": "stream",
          "name": "stdout",
          "text": [
            "Dictionary with lowercase alphabets and their ASCII values:\n",
            "{'a': 97, 'b': 98, 'c': 99, 'd': 100, 'e': 101}\n"
          ]
        }
      ]
    }
  ]
}